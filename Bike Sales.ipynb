{
 "cells": [
  {
   "cell_type": "code",
   "execution_count": 1,
   "id": "01b291dc",
   "metadata": {},
   "outputs": [],
   "source": [
    "import pandas as pd\n",
    "import numpy as np\n",
    "import matplotlib.pyplot as plt\n",
    "import seaborn as sns\n",
    "import os\n",
    "import warnings\n",
    "warnings.filterwarnings('ignore')"
   ]
  },
  {
   "cell_type": "code",
   "execution_count": 2,
   "id": "645c05d7",
   "metadata": {},
   "outputs": [],
   "source": [
    "os.chdir('C:\\\\Users\\\\baris\\\\Desktop\\\\Data Science')"
   ]
  },
  {
   "cell_type": "code",
   "execution_count": 3,
   "id": "5ca41248",
   "metadata": {},
   "outputs": [
    {
     "data": {
      "text/html": [
       "<div>\n",
       "<style scoped>\n",
       "    .dataframe tbody tr th:only-of-type {\n",
       "        vertical-align: middle;\n",
       "    }\n",
       "\n",
       "    .dataframe tbody tr th {\n",
       "        vertical-align: top;\n",
       "    }\n",
       "\n",
       "    .dataframe thead th {\n",
       "        text-align: right;\n",
       "    }\n",
       "</style>\n",
       "<table border=\"1\" class=\"dataframe\">\n",
       "  <thead>\n",
       "    <tr style=\"text-align: right;\">\n",
       "      <th></th>\n",
       "      <th>Date</th>\n",
       "      <th>Day</th>\n",
       "      <th>Month</th>\n",
       "      <th>Year</th>\n",
       "      <th>Customer_Age</th>\n",
       "      <th>Age_Group</th>\n",
       "      <th>Customer_Gender</th>\n",
       "      <th>Country</th>\n",
       "      <th>State</th>\n",
       "      <th>Product_Category</th>\n",
       "      <th>Sub_Category</th>\n",
       "      <th>Product</th>\n",
       "      <th>Order_Quantity</th>\n",
       "      <th>Unit_Cost</th>\n",
       "      <th>Unit_Price</th>\n",
       "      <th>Profit</th>\n",
       "      <th>Cost</th>\n",
       "      <th>Revenue</th>\n",
       "    </tr>\n",
       "  </thead>\n",
       "  <tbody>\n",
       "    <tr>\n",
       "      <th>0</th>\n",
       "      <td>2013-11-26</td>\n",
       "      <td>26.0</td>\n",
       "      <td>November</td>\n",
       "      <td>2013.0</td>\n",
       "      <td>19.0</td>\n",
       "      <td>Youth (&lt;25)</td>\n",
       "      <td>M</td>\n",
       "      <td>Canada</td>\n",
       "      <td>British Columbia</td>\n",
       "      <td>Accessories</td>\n",
       "      <td>Bike Racks</td>\n",
       "      <td>Hitch Rack - 4-Bike</td>\n",
       "      <td>8.0</td>\n",
       "      <td>45.0</td>\n",
       "      <td>120.0</td>\n",
       "      <td>590.0</td>\n",
       "      <td>360.0</td>\n",
       "      <td>950.0</td>\n",
       "    </tr>\n",
       "    <tr>\n",
       "      <th>1</th>\n",
       "      <td>2015-11-26</td>\n",
       "      <td>26.0</td>\n",
       "      <td>November</td>\n",
       "      <td>2015.0</td>\n",
       "      <td>19.0</td>\n",
       "      <td>Youth (&lt;25)</td>\n",
       "      <td>M</td>\n",
       "      <td>Canada</td>\n",
       "      <td>British Columbia</td>\n",
       "      <td>Accessories</td>\n",
       "      <td>Bike Racks</td>\n",
       "      <td>Hitch Rack - 4-Bike</td>\n",
       "      <td>NaN</td>\n",
       "      <td>45.0</td>\n",
       "      <td>120.0</td>\n",
       "      <td>590.0</td>\n",
       "      <td>360.0</td>\n",
       "      <td>950.0</td>\n",
       "    </tr>\n",
       "    <tr>\n",
       "      <th>2</th>\n",
       "      <td>2014-03-23</td>\n",
       "      <td>23.0</td>\n",
       "      <td>March</td>\n",
       "      <td>2014.0</td>\n",
       "      <td>49.0</td>\n",
       "      <td>Adults (35-64)</td>\n",
       "      <td>M</td>\n",
       "      <td>Australia</td>\n",
       "      <td>New South Wales</td>\n",
       "      <td>Accessories</td>\n",
       "      <td>Bike Racks</td>\n",
       "      <td>Hitch Rack - 4-Bike</td>\n",
       "      <td>23.0</td>\n",
       "      <td>45.0</td>\n",
       "      <td>120.0</td>\n",
       "      <td>1366.0</td>\n",
       "      <td>1035.0</td>\n",
       "      <td>2401.0</td>\n",
       "    </tr>\n",
       "    <tr>\n",
       "      <th>3</th>\n",
       "      <td>2016-03-23</td>\n",
       "      <td>23.0</td>\n",
       "      <td>March</td>\n",
       "      <td>2016.0</td>\n",
       "      <td>49.0</td>\n",
       "      <td>Adults (35-64)</td>\n",
       "      <td>M</td>\n",
       "      <td>Australia</td>\n",
       "      <td>New South Wales</td>\n",
       "      <td>Accessories</td>\n",
       "      <td>Bike Racks</td>\n",
       "      <td>Hitch Rack - 4-Bike</td>\n",
       "      <td>20.0</td>\n",
       "      <td>45.0</td>\n",
       "      <td>120.0</td>\n",
       "      <td>1188.0</td>\n",
       "      <td>900.0</td>\n",
       "      <td>2088.0</td>\n",
       "    </tr>\n",
       "    <tr>\n",
       "      <th>4</th>\n",
       "      <td>2014-05-15</td>\n",
       "      <td>15.0</td>\n",
       "      <td>May</td>\n",
       "      <td>2014.0</td>\n",
       "      <td>47.0</td>\n",
       "      <td>Adults (35-64)</td>\n",
       "      <td>F</td>\n",
       "      <td>Australia</td>\n",
       "      <td>New South Wales</td>\n",
       "      <td>Accessories</td>\n",
       "      <td>Bike Racks</td>\n",
       "      <td>Hitch Rack - 4-Bike</td>\n",
       "      <td>4.0</td>\n",
       "      <td>45.0</td>\n",
       "      <td>120.0</td>\n",
       "      <td>238.0</td>\n",
       "      <td>180.0</td>\n",
       "      <td>418.0</td>\n",
       "    </tr>\n",
       "  </tbody>\n",
       "</table>\n",
       "</div>"
      ],
      "text/plain": [
       "         Date   Day     Month    Year  Customer_Age       Age_Group  \\\n",
       "0  2013-11-26  26.0  November  2013.0          19.0     Youth (<25)   \n",
       "1  2015-11-26  26.0  November  2015.0          19.0     Youth (<25)   \n",
       "2  2014-03-23  23.0     March  2014.0          49.0  Adults (35-64)   \n",
       "3  2016-03-23  23.0     March  2016.0          49.0  Adults (35-64)   \n",
       "4  2014-05-15  15.0       May  2014.0          47.0  Adults (35-64)   \n",
       "\n",
       "  Customer_Gender    Country             State Product_Category Sub_Category  \\\n",
       "0               M     Canada  British Columbia      Accessories   Bike Racks   \n",
       "1               M     Canada  British Columbia      Accessories   Bike Racks   \n",
       "2               M  Australia   New South Wales      Accessories   Bike Racks   \n",
       "3               M  Australia   New South Wales      Accessories   Bike Racks   \n",
       "4               F  Australia   New South Wales      Accessories   Bike Racks   \n",
       "\n",
       "               Product  Order_Quantity  Unit_Cost  Unit_Price  Profit    Cost  \\\n",
       "0  Hitch Rack - 4-Bike             8.0       45.0       120.0   590.0   360.0   \n",
       "1  Hitch Rack - 4-Bike             NaN       45.0       120.0   590.0   360.0   \n",
       "2  Hitch Rack - 4-Bike            23.0       45.0       120.0  1366.0  1035.0   \n",
       "3  Hitch Rack - 4-Bike            20.0       45.0       120.0  1188.0   900.0   \n",
       "4  Hitch Rack - 4-Bike             4.0       45.0       120.0   238.0   180.0   \n",
       "\n",
       "   Revenue  \n",
       "0    950.0  \n",
       "1    950.0  \n",
       "2   2401.0  \n",
       "3   2088.0  \n",
       "4    418.0  "
      ]
     },
     "execution_count": 3,
     "metadata": {},
     "output_type": "execute_result"
    }
   ],
   "source": [
    "data = pd.read_csv('sales_data.csv - sales_data.csv')\n",
    "data.head()"
   ]
  },
  {
   "cell_type": "code",
   "execution_count": 4,
   "id": "217fe285",
   "metadata": {},
   "outputs": [
    {
     "data": {
      "text/plain": [
       "(33681, 18)"
      ]
     },
     "execution_count": 4,
     "metadata": {},
     "output_type": "execute_result"
    }
   ],
   "source": [
    "data.shape"
   ]
  },
  {
   "cell_type": "code",
   "execution_count": 5,
   "id": "f3ea3705",
   "metadata": {},
   "outputs": [
    {
     "name": "stdout",
     "output_type": "stream",
     "text": [
      "<class 'pandas.core.frame.DataFrame'>\n",
      "RangeIndex: 33681 entries, 0 to 33680\n",
      "Data columns (total 18 columns):\n",
      " #   Column            Non-Null Count  Dtype  \n",
      "---  ------            --------------  -----  \n",
      " 0   Date              33681 non-null  object \n",
      " 1   Day               27120 non-null  float64\n",
      " 2   Month             27120 non-null  object \n",
      " 3   Year              27120 non-null  float64\n",
      " 4   Customer_Age      27120 non-null  float64\n",
      " 5   Age_Group         27120 non-null  object \n",
      " 6   Customer_Gender   27120 non-null  object \n",
      " 7   Country           27120 non-null  object \n",
      " 8   State             27120 non-null  object \n",
      " 9   Product_Category  27120 non-null  object \n",
      " 10  Sub_Category      27120 non-null  object \n",
      " 11  Product           27120 non-null  object \n",
      " 12  Order_Quantity    27116 non-null  float64\n",
      " 13  Unit_Cost         27116 non-null  float64\n",
      " 14  Unit_Price        27116 non-null  float64\n",
      " 15  Profit            27114 non-null  float64\n",
      " 16  Cost              27119 non-null  float64\n",
      " 17  Revenue           27118 non-null  float64\n",
      "dtypes: float64(9), object(9)\n",
      "memory usage: 4.6+ MB\n"
     ]
    }
   ],
   "source": [
    "data.info()"
   ]
  },
  {
   "cell_type": "code",
   "execution_count": 6,
   "id": "36f4a7e7",
   "metadata": {},
   "outputs": [
    {
     "data": {
      "text/html": [
       "<div>\n",
       "<style scoped>\n",
       "    .dataframe tbody tr th:only-of-type {\n",
       "        vertical-align: middle;\n",
       "    }\n",
       "\n",
       "    .dataframe tbody tr th {\n",
       "        vertical-align: top;\n",
       "    }\n",
       "\n",
       "    .dataframe thead th {\n",
       "        text-align: right;\n",
       "    }\n",
       "</style>\n",
       "<table border=\"1\" class=\"dataframe\">\n",
       "  <thead>\n",
       "    <tr style=\"text-align: right;\">\n",
       "      <th></th>\n",
       "      <th>count</th>\n",
       "      <th>mean</th>\n",
       "      <th>std</th>\n",
       "      <th>min</th>\n",
       "      <th>25%</th>\n",
       "      <th>50%</th>\n",
       "      <th>75%</th>\n",
       "      <th>max</th>\n",
       "    </tr>\n",
       "  </thead>\n",
       "  <tbody>\n",
       "    <tr>\n",
       "      <th>Day</th>\n",
       "      <td>27120.0</td>\n",
       "      <td>15.532448</td>\n",
       "      <td>8.825231</td>\n",
       "      <td>1.0</td>\n",
       "      <td>8.0</td>\n",
       "      <td>15.0</td>\n",
       "      <td>23.0</td>\n",
       "      <td>31.0</td>\n",
       "    </tr>\n",
       "    <tr>\n",
       "      <th>Year</th>\n",
       "      <td>27120.0</td>\n",
       "      <td>2014.581047</td>\n",
       "      <td>1.115113</td>\n",
       "      <td>2013.0</td>\n",
       "      <td>2014.0</td>\n",
       "      <td>2014.5</td>\n",
       "      <td>2016.0</td>\n",
       "      <td>2016.0</td>\n",
       "    </tr>\n",
       "    <tr>\n",
       "      <th>Customer_Age</th>\n",
       "      <td>27120.0</td>\n",
       "      <td>36.048894</td>\n",
       "      <td>10.991184</td>\n",
       "      <td>17.0</td>\n",
       "      <td>28.0</td>\n",
       "      <td>35.0</td>\n",
       "      <td>43.0</td>\n",
       "      <td>87.0</td>\n",
       "    </tr>\n",
       "    <tr>\n",
       "      <th>Order_Quantity</th>\n",
       "      <td>27116.0</td>\n",
       "      <td>14.967326</td>\n",
       "      <td>8.721129</td>\n",
       "      <td>1.0</td>\n",
       "      <td>7.0</td>\n",
       "      <td>15.0</td>\n",
       "      <td>22.0</td>\n",
       "      <td>32.0</td>\n",
       "    </tr>\n",
       "    <tr>\n",
       "      <th>Unit_Cost</th>\n",
       "      <td>27116.0</td>\n",
       "      <td>5.929377</td>\n",
       "      <td>9.431285</td>\n",
       "      <td>2.0</td>\n",
       "      <td>2.0</td>\n",
       "      <td>3.0</td>\n",
       "      <td>7.0</td>\n",
       "      <td>59.0</td>\n",
       "    </tr>\n",
       "    <tr>\n",
       "      <th>Unit_Price</th>\n",
       "      <td>27116.0</td>\n",
       "      <td>14.294992</td>\n",
       "      <td>25.460240</td>\n",
       "      <td>5.0</td>\n",
       "      <td>5.0</td>\n",
       "      <td>9.0</td>\n",
       "      <td>10.0</td>\n",
       "      <td>159.0</td>\n",
       "    </tr>\n",
       "    <tr>\n",
       "      <th>Profit</th>\n",
       "      <td>27114.0</td>\n",
       "      <td>83.265693</td>\n",
       "      <td>131.090298</td>\n",
       "      <td>-5.0</td>\n",
       "      <td>20.0</td>\n",
       "      <td>47.0</td>\n",
       "      <td>87.0</td>\n",
       "      <td>2214.0</td>\n",
       "    </tr>\n",
       "    <tr>\n",
       "      <th>Cost</th>\n",
       "      <td>27119.0</td>\n",
       "      <td>73.927025</td>\n",
       "      <td>91.065150</td>\n",
       "      <td>2.0</td>\n",
       "      <td>24.0</td>\n",
       "      <td>48.0</td>\n",
       "      <td>90.0</td>\n",
       "      <td>1350.0</td>\n",
       "    </tr>\n",
       "    <tr>\n",
       "      <th>Revenue</th>\n",
       "      <td>27118.0</td>\n",
       "      <td>157.216425</td>\n",
       "      <td>215.999625</td>\n",
       "      <td>4.0</td>\n",
       "      <td>53.0</td>\n",
       "      <td>104.0</td>\n",
       "      <td>178.0</td>\n",
       "      <td>3564.0</td>\n",
       "    </tr>\n",
       "  </tbody>\n",
       "</table>\n",
       "</div>"
      ],
      "text/plain": [
       "                  count         mean         std     min     25%     50%  \\\n",
       "Day             27120.0    15.532448    8.825231     1.0     8.0    15.0   \n",
       "Year            27120.0  2014.581047    1.115113  2013.0  2014.0  2014.5   \n",
       "Customer_Age    27120.0    36.048894   10.991184    17.0    28.0    35.0   \n",
       "Order_Quantity  27116.0    14.967326    8.721129     1.0     7.0    15.0   \n",
       "Unit_Cost       27116.0     5.929377    9.431285     2.0     2.0     3.0   \n",
       "Unit_Price      27116.0    14.294992   25.460240     5.0     5.0     9.0   \n",
       "Profit          27114.0    83.265693  131.090298    -5.0    20.0    47.0   \n",
       "Cost            27119.0    73.927025   91.065150     2.0    24.0    48.0   \n",
       "Revenue         27118.0   157.216425  215.999625     4.0    53.0   104.0   \n",
       "\n",
       "                   75%     max  \n",
       "Day               23.0    31.0  \n",
       "Year            2016.0  2016.0  \n",
       "Customer_Age      43.0    87.0  \n",
       "Order_Quantity    22.0    32.0  \n",
       "Unit_Cost          7.0    59.0  \n",
       "Unit_Price        10.0   159.0  \n",
       "Profit            87.0  2214.0  \n",
       "Cost              90.0  1350.0  \n",
       "Revenue          178.0  3564.0  "
      ]
     },
     "execution_count": 6,
     "metadata": {},
     "output_type": "execute_result"
    }
   ],
   "source": [
    "data.describe().T"
   ]
  },
  {
   "cell_type": "code",
   "execution_count": 7,
   "id": "c20a106b",
   "metadata": {},
   "outputs": [
    {
     "data": {
      "text/plain": [
       "Date                   0\n",
       "Day                 6561\n",
       "Month               6561\n",
       "Year                6561\n",
       "Customer_Age        6561\n",
       "Age_Group           6561\n",
       "Customer_Gender     6561\n",
       "Country             6561\n",
       "State               6561\n",
       "Product_Category    6561\n",
       "Sub_Category        6561\n",
       "Product             6561\n",
       "Order_Quantity      6565\n",
       "Unit_Cost           6565\n",
       "Unit_Price          6565\n",
       "Profit              6567\n",
       "Cost                6562\n",
       "Revenue             6563\n",
       "dtype: int64"
      ]
     },
     "execution_count": 7,
     "metadata": {},
     "output_type": "execute_result"
    }
   ],
   "source": [
    "data.isnull().sum()"
   ]
  },
  {
   "cell_type": "code",
   "execution_count": 8,
   "id": "2770f5c7",
   "metadata": {},
   "outputs": [],
   "source": [
    "# data = data.apply(lambda x: x.fillna(x.mean())\n",
    "                  #if x.dtype=='float'\n",
    "                  #else x.fillna(x.value_counts().index[0]))\n",
    "\n",
    "#Can be used to fill all of the missing categorical and numerical values"
   ]
  },
  {
   "cell_type": "markdown",
   "id": "70d2ac43",
   "metadata": {},
   "source": [
    "## Numerical Analysis and Visualisation"
   ]
  },
  {
   "cell_type": "code",
   "execution_count": 9,
   "id": "539b1c35",
   "metadata": {},
   "outputs": [
    {
     "data": {
      "text/plain": [
       "count    27116.000000\n",
       "mean         5.929377\n",
       "std          9.431285\n",
       "min          2.000000\n",
       "25%          2.000000\n",
       "50%          3.000000\n",
       "75%          7.000000\n",
       "max         59.000000\n",
       "Name: Unit_Cost, dtype: float64"
      ]
     },
     "execution_count": 9,
     "metadata": {},
     "output_type": "execute_result"
    }
   ],
   "source": [
    "data['Unit_Cost'].describe()"
   ]
  },
  {
   "cell_type": "code",
   "execution_count": 10,
   "id": "ddda8170",
   "metadata": {},
   "outputs": [
    {
     "data": {
      "text/plain": [
       "<AxesSubplot:>"
      ]
     },
     "execution_count": 10,
     "metadata": {},
     "output_type": "execute_result"
    },
    {
     "data": {
      "image/png": "[encoded data removed]",
      "text/plain": [
       "<Figure size 1080x504 with 1 Axes>"
      ]
     },
     "metadata": {
      "needs_background": "light"
     },
     "output_type": "display_data"
    }
   ],
   "source": [
    "data['Unit_Cost'].plot(kind='box', vert=False, figsize=(15,7))"
   ]
  },
  {
   "cell_type": "code",
   "execution_count": 11,
   "id": "11c022bd",
   "metadata": {},
   "outputs": [
    {
     "data": {
      "text/plain": [
       "<AxesSubplot:ylabel='Density'>"
      ]
     },
     "execution_count": 11,
     "metadata": {},
     "output_type": "execute_result"
    },
    {
     "data": {
      "image/png": "[encoded data removed]",
      "text/plain": [
       "<Figure size 1080x504 with 1 Axes>"
      ]
     },
     "metadata": {
      "needs_background": "light"
     },
     "output_type": "display_data"
    }
   ],
   "source": [
    "data['Unit_Cost'].plot(kind='density', figsize=(15,7))"
   ]
  },
  {
   "cell_type": "code",
   "execution_count": 12,
   "id": "236e3a6b",
   "metadata": {},
   "outputs": [
    {
     "data": {
      "text/plain": [
       "<matplotlib.lines.Line2D at 0x246233c3dc0>"
      ]
     },
     "execution_count": 12,
     "metadata": {},
     "output_type": "execute_result"
    },
    {
     "data": {
      "image/png": "[encoded data removed]",
      "text/plain": [
       "<Figure size 1080x504 with 1 Axes>"
      ]
     },
     "metadata": {
      "needs_background": "light"
     },
     "output_type": "display_data"
    }
   ],
   "source": [
    "ax = data['Unit_Cost'].plot(kind='density', figsize=(15,7))\n",
    "ax.axvline(data['Unit_Cost'].mean(), color='green')"
   ]
  },
  {
   "cell_type": "code",
   "execution_count": 13,
   "id": "fd9e4277",
   "metadata": {},
   "outputs": [
    {
     "data": {
      "text/plain": [
       "Text(0.5, 0, 'Dollars')"
      ]
     },
     "execution_count": 13,
     "metadata": {},
     "output_type": "execute_result"
    },
    {
     "data": {
      "image/png": "[encoded data removed]",
      "text/plain": [
       "<Figure size 1080x504 with 1 Axes>"
      ]
     },
     "metadata": {
      "needs_background": "light"
     },
     "output_type": "display_data"
    }
   ],
   "source": [
    "ax = data['Unit_Cost'].plot(kind='hist', figsize=(15,7))\n",
    "ax.set_ylabel('Number of Sales')\n",
    "ax.set_xlabel('Dollars')"
   ]
  },
  {
   "cell_type": "markdown",
   "id": "a8f17678",
   "metadata": {},
   "source": [
    "## Categorical Analysis and Visualization"
   ]
  },
  {
   "cell_type": "code",
   "execution_count": 14,
   "id": "332376cd",
   "metadata": {},
   "outputs": [
    {
     "data": {
      "text/html": [
       "<div>\n",
       "<style scoped>\n",
       "    .dataframe tbody tr th:only-of-type {\n",
       "        vertical-align: middle;\n",
       "    }\n",
       "\n",
       "    .dataframe tbody tr th {\n",
       "        vertical-align: top;\n",
       "    }\n",
       "\n",
       "    .dataframe thead th {\n",
       "        text-align: right;\n",
       "    }\n",
       "</style>\n",
       "<table border=\"1\" class=\"dataframe\">\n",
       "  <thead>\n",
       "    <tr style=\"text-align: right;\">\n",
       "      <th></th>\n",
       "      <th>Date</th>\n",
       "      <th>Day</th>\n",
       "      <th>Month</th>\n",
       "      <th>Year</th>\n",
       "      <th>Customer_Age</th>\n",
       "      <th>Age_Group</th>\n",
       "      <th>Customer_Gender</th>\n",
       "      <th>Country</th>\n",
       "      <th>State</th>\n",
       "      <th>Product_Category</th>\n",
       "      <th>Sub_Category</th>\n",
       "      <th>Product</th>\n",
       "      <th>Order_Quantity</th>\n",
       "      <th>Unit_Cost</th>\n",
       "      <th>Unit_Price</th>\n",
       "      <th>Profit</th>\n",
       "      <th>Cost</th>\n",
       "      <th>Revenue</th>\n",
       "    </tr>\n",
       "  </thead>\n",
       "  <tbody>\n",
       "    <tr>\n",
       "      <th>0</th>\n",
       "      <td>2013-11-26</td>\n",
       "      <td>26.0</td>\n",
       "      <td>November</td>\n",
       "      <td>2013.0</td>\n",
       "      <td>19.0</td>\n",
       "      <td>Youth (&lt;25)</td>\n",
       "      <td>M</td>\n",
       "      <td>Canada</td>\n",
       "      <td>British Columbia</td>\n",
       "      <td>Accessories</td>\n",
       "      <td>Bike Racks</td>\n",
       "      <td>Hitch Rack - 4-Bike</td>\n",
       "      <td>8.0</td>\n",
       "      <td>45.0</td>\n",
       "      <td>120.0</td>\n",
       "      <td>590.0</td>\n",
       "      <td>360.0</td>\n",
       "      <td>950.0</td>\n",
       "    </tr>\n",
       "    <tr>\n",
       "      <th>1</th>\n",
       "      <td>2015-11-26</td>\n",
       "      <td>26.0</td>\n",
       "      <td>November</td>\n",
       "      <td>2015.0</td>\n",
       "      <td>19.0</td>\n",
       "      <td>Youth (&lt;25)</td>\n",
       "      <td>M</td>\n",
       "      <td>Canada</td>\n",
       "      <td>British Columbia</td>\n",
       "      <td>Accessories</td>\n",
       "      <td>Bike Racks</td>\n",
       "      <td>Hitch Rack - 4-Bike</td>\n",
       "      <td>NaN</td>\n",
       "      <td>45.0</td>\n",
       "      <td>120.0</td>\n",
       "      <td>590.0</td>\n",
       "      <td>360.0</td>\n",
       "      <td>950.0</td>\n",
       "    </tr>\n",
       "    <tr>\n",
       "      <th>2</th>\n",
       "      <td>2014-03-23</td>\n",
       "      <td>23.0</td>\n",
       "      <td>March</td>\n",
       "      <td>2014.0</td>\n",
       "      <td>49.0</td>\n",
       "      <td>Adults (35-64)</td>\n",
       "      <td>M</td>\n",
       "      <td>Australia</td>\n",
       "      <td>New South Wales</td>\n",
       "      <td>Accessories</td>\n",
       "      <td>Bike Racks</td>\n",
       "      <td>Hitch Rack - 4-Bike</td>\n",
       "      <td>23.0</td>\n",
       "      <td>45.0</td>\n",
       "      <td>120.0</td>\n",
       "      <td>1366.0</td>\n",
       "      <td>1035.0</td>\n",
       "      <td>2401.0</td>\n",
       "    </tr>\n",
       "    <tr>\n",
       "      <th>3</th>\n",
       "      <td>2016-03-23</td>\n",
       "      <td>23.0</td>\n",
       "      <td>March</td>\n",
       "      <td>2016.0</td>\n",
       "      <td>49.0</td>\n",
       "      <td>Adults (35-64)</td>\n",
       "      <td>M</td>\n",
       "      <td>Australia</td>\n",
       "      <td>New South Wales</td>\n",
       "      <td>Accessories</td>\n",
       "      <td>Bike Racks</td>\n",
       "      <td>Hitch Rack - 4-Bike</td>\n",
       "      <td>20.0</td>\n",
       "      <td>45.0</td>\n",
       "      <td>120.0</td>\n",
       "      <td>1188.0</td>\n",
       "      <td>900.0</td>\n",
       "      <td>2088.0</td>\n",
       "    </tr>\n",
       "    <tr>\n",
       "      <th>4</th>\n",
       "      <td>2014-05-15</td>\n",
       "      <td>15.0</td>\n",
       "      <td>May</td>\n",
       "      <td>2014.0</td>\n",
       "      <td>47.0</td>\n",
       "      <td>Adults (35-64)</td>\n",
       "      <td>F</td>\n",
       "      <td>Australia</td>\n",
       "      <td>New South Wales</td>\n",
       "      <td>Accessories</td>\n",
       "      <td>Bike Racks</td>\n",
       "      <td>Hitch Rack - 4-Bike</td>\n",
       "      <td>4.0</td>\n",
       "      <td>45.0</td>\n",
       "      <td>120.0</td>\n",
       "      <td>238.0</td>\n",
       "      <td>180.0</td>\n",
       "      <td>418.0</td>\n",
       "    </tr>\n",
       "  </tbody>\n",
       "</table>\n",
       "</div>"
      ],
      "text/plain": [
       "         Date   Day     Month    Year  Customer_Age       Age_Group  \\\n",
       "0  2013-11-26  26.0  November  2013.0          19.0     Youth (<25)   \n",
       "1  2015-11-26  26.0  November  2015.0          19.0     Youth (<25)   \n",
       "2  2014-03-23  23.0     March  2014.0          49.0  Adults (35-64)   \n",
       "3  2016-03-23  23.0     March  2016.0          49.0  Adults (35-64)   \n",
       "4  2014-05-15  15.0       May  2014.0          47.0  Adults (35-64)   \n",
       "\n",
       "  Customer_Gender    Country             State Product_Category Sub_Category  \\\n",
       "0               M     Canada  British Columbia      Accessories   Bike Racks   \n",
       "1               M     Canada  British Columbia      Accessories   Bike Racks   \n",
       "2               M  Australia   New South Wales      Accessories   Bike Racks   \n",
       "3               M  Australia   New South Wales      Accessories   Bike Racks   \n",
       "4               F  Australia   New South Wales      Accessories   Bike Racks   \n",
       "\n",
       "               Product  Order_Quantity  Unit_Cost  Unit_Price  Profit    Cost  \\\n",
       "0  Hitch Rack - 4-Bike             8.0       45.0       120.0   590.0   360.0   \n",
       "1  Hitch Rack - 4-Bike             NaN       45.0       120.0   590.0   360.0   \n",
       "2  Hitch Rack - 4-Bike            23.0       45.0       120.0  1366.0  1035.0   \n",
       "3  Hitch Rack - 4-Bike            20.0       45.0       120.0  1188.0   900.0   \n",
       "4  Hitch Rack - 4-Bike             4.0       45.0       120.0   238.0   180.0   \n",
       "\n",
       "   Revenue  \n",
       "0    950.0  \n",
       "1    950.0  \n",
       "2   2401.0  \n",
       "3   2088.0  \n",
       "4    418.0  "
      ]
     },
     "execution_count": 14,
     "metadata": {},
     "output_type": "execute_result"
    }
   ],
   "source": [
    "data.head()"
   ]
  },
  {
   "cell_type": "code",
   "execution_count": 15,
   "id": "1f142762",
   "metadata": {},
   "outputs": [
    {
     "data": {
      "text/plain": [
       "Adults (35-64)          13678\n",
       "Young Adults (25-34)     9032\n",
       "Youth (<25)              4256\n",
       "Seniors (64+)             154\n",
       "Name: Age_Group, dtype: int64"
      ]
     },
     "execution_count": 15,
     "metadata": {},
     "output_type": "execute_result"
    }
   ],
   "source": [
    "data['Age_Group'].value_counts()"
   ]
  },
  {
   "cell_type": "code",
   "execution_count": 16,
   "id": "eea42163",
   "metadata": {},
   "outputs": [
    {
     "data": {
      "text/plain": [
       "<AxesSubplot:ylabel='Age_Group'>"
      ]
     },
     "execution_count": 16,
     "metadata": {},
     "output_type": "execute_result"
    },
    {
     "data": {
      "image/png": "[encoded data removed]",
      "text/plain": [
       "<Figure size 504x504 with 1 Axes>"
      ]
     },
     "metadata": {},
     "output_type": "display_data"
    }
   ],
   "source": [
    "data['Age_Group'].value_counts().plot(kind='pie', figsize=(7,7))"
   ]
  },
  {
   "cell_type": "code",
   "execution_count": 17,
   "id": "93c4f535",
   "metadata": {},
   "outputs": [
    {
     "data": {
      "text/plain": [
       "Text(0, 0.5, 'Number of Sales')"
      ]
     },
     "execution_count": 17,
     "metadata": {},
     "output_type": "execute_result"
    },
    {
     "data": {
      "image/png": "[encoded data removed]",
      "text/plain": [
       "<Figure size 1080x504 with 1 Axes>"
      ]
     },
     "metadata": {
      "needs_background": "light"
     },
     "output_type": "display_data"
    }
   ],
   "source": [
    "ax = data['Age_Group'].value_counts().plot(kind='bar', figsize=(15,7))\n",
    "ax.set_ylabel('Number of Sales')"
   ]
  },
  {
   "cell_type": "markdown",
   "id": "37f5a694",
   "metadata": {},
   "source": [
    "## Relationship Between The Columns"
   ]
  },
  {
   "cell_type": "code",
   "execution_count": 18,
   "id": "9aa90437",
   "metadata": {},
   "outputs": [
    {
     "data": {
      "text/html": [
       "<div>\n",
       "<style scoped>\n",
       "    .dataframe tbody tr th:only-of-type {\n",
       "        vertical-align: middle;\n",
       "    }\n",
       "\n",
       "    .dataframe tbody tr th {\n",
       "        vertical-align: top;\n",
       "    }\n",
       "\n",
       "    .dataframe thead th {\n",
       "        text-align: right;\n",
       "    }\n",
       "</style>\n",
       "<table border=\"1\" class=\"dataframe\">\n",
       "  <thead>\n",
       "    <tr style=\"text-align: right;\">\n",
       "      <th></th>\n",
       "      <th>Day</th>\n",
       "      <th>Year</th>\n",
       "      <th>Customer_Age</th>\n",
       "      <th>Order_Quantity</th>\n",
       "      <th>Unit_Cost</th>\n",
       "      <th>Unit_Price</th>\n",
       "      <th>Profit</th>\n",
       "      <th>Cost</th>\n",
       "      <th>Revenue</th>\n",
       "    </tr>\n",
       "  </thead>\n",
       "  <tbody>\n",
       "    <tr>\n",
       "      <th>Day</th>\n",
       "      <td>1.000000</td>\n",
       "      <td>-0.003381</td>\n",
       "      <td>-0.019909</td>\n",
       "      <td>-0.004539</td>\n",
       "      <td>0.012871</td>\n",
       "      <td>0.012214</td>\n",
       "      <td>0.008239</td>\n",
       "      <td>0.008224</td>\n",
       "      <td>0.008528</td>\n",
       "    </tr>\n",
       "    <tr>\n",
       "      <th>Year</th>\n",
       "      <td>-0.003381</td>\n",
       "      <td>1.000000</td>\n",
       "      <td>0.018977</td>\n",
       "      <td>-0.026982</td>\n",
       "      <td>-0.013790</td>\n",
       "      <td>-0.014117</td>\n",
       "      <td>-0.020310</td>\n",
       "      <td>-0.023489</td>\n",
       "      <td>-0.022369</td>\n",
       "    </tr>\n",
       "    <tr>\n",
       "      <th>Customer_Age</th>\n",
       "      <td>-0.019909</td>\n",
       "      <td>0.018977</td>\n",
       "      <td>1.000000</td>\n",
       "      <td>-0.001440</td>\n",
       "      <td>0.023285</td>\n",
       "      <td>0.026818</td>\n",
       "      <td>0.044329</td>\n",
       "      <td>0.031590</td>\n",
       "      <td>0.040109</td>\n",
       "    </tr>\n",
       "    <tr>\n",
       "      <th>Order_Quantity</th>\n",
       "      <td>-0.004539</td>\n",
       "      <td>-0.026982</td>\n",
       "      <td>-0.001440</td>\n",
       "      <td>1.000000</td>\n",
       "      <td>-0.179917</td>\n",
       "      <td>-0.182840</td>\n",
       "      <td>0.230999</td>\n",
       "      <td>0.335506</td>\n",
       "      <td>0.282041</td>\n",
       "    </tr>\n",
       "    <tr>\n",
       "      <th>Unit_Cost</th>\n",
       "      <td>0.012871</td>\n",
       "      <td>-0.013790</td>\n",
       "      <td>0.023285</td>\n",
       "      <td>-0.179917</td>\n",
       "      <td>1.000000</td>\n",
       "      <td>0.989896</td>\n",
       "      <td>0.632905</td>\n",
       "      <td>0.653605</td>\n",
       "      <td>0.660120</td>\n",
       "    </tr>\n",
       "    <tr>\n",
       "      <th>Unit_Price</th>\n",
       "      <td>0.012214</td>\n",
       "      <td>-0.014117</td>\n",
       "      <td>0.026818</td>\n",
       "      <td>-0.182840</td>\n",
       "      <td>0.989896</td>\n",
       "      <td>1.000000</td>\n",
       "      <td>0.662450</td>\n",
       "      <td>0.628131</td>\n",
       "      <td>0.667335</td>\n",
       "    </tr>\n",
       "    <tr>\n",
       "      <th>Profit</th>\n",
       "      <td>0.008239</td>\n",
       "      <td>-0.020310</td>\n",
       "      <td>0.044329</td>\n",
       "      <td>0.230999</td>\n",
       "      <td>0.632905</td>\n",
       "      <td>0.662450</td>\n",
       "      <td>1.000000</td>\n",
       "      <td>0.882069</td>\n",
       "      <td>0.980075</td>\n",
       "    </tr>\n",
       "    <tr>\n",
       "      <th>Cost</th>\n",
       "      <td>0.008224</td>\n",
       "      <td>-0.023489</td>\n",
       "      <td>0.031590</td>\n",
       "      <td>0.335506</td>\n",
       "      <td>0.653605</td>\n",
       "      <td>0.628131</td>\n",
       "      <td>0.882069</td>\n",
       "      <td>1.000000</td>\n",
       "      <td>0.958265</td>\n",
       "    </tr>\n",
       "    <tr>\n",
       "      <th>Revenue</th>\n",
       "      <td>0.008528</td>\n",
       "      <td>-0.022369</td>\n",
       "      <td>0.040109</td>\n",
       "      <td>0.282041</td>\n",
       "      <td>0.660120</td>\n",
       "      <td>0.667335</td>\n",
       "      <td>0.980075</td>\n",
       "      <td>0.958265</td>\n",
       "      <td>1.000000</td>\n",
       "    </tr>\n",
       "  </tbody>\n",
       "</table>\n",
       "</div>"
      ],
      "text/plain": [
       "                     Day      Year  Customer_Age  Order_Quantity  Unit_Cost  \\\n",
       "Day             1.000000 -0.003381     -0.019909       -0.004539   0.012871   \n",
       "Year           -0.003381  1.000000      0.018977       -0.026982  -0.013790   \n",
       "Customer_Age   -0.019909  0.018977      1.000000       -0.001440   0.023285   \n",
       "Order_Quantity -0.004539 -0.026982     -0.001440        1.000000  -0.179917   \n",
       "Unit_Cost       0.012871 -0.013790      0.023285       -0.179917   1.000000   \n",
       "Unit_Price      0.012214 -0.014117      0.026818       -0.182840   0.989896   \n",
       "Profit          0.008239 -0.020310      0.044329        0.230999   0.632905   \n",
       "Cost            0.008224 -0.023489      0.031590        0.335506   0.653605   \n",
       "Revenue         0.008528 -0.022369      0.040109        0.282041   0.660120   \n",
       "\n",
       "                Unit_Price    Profit      Cost   Revenue  \n",
       "Day               0.012214  0.008239  0.008224  0.008528  \n",
       "Year             -0.014117 -0.020310 -0.023489 -0.022369  \n",
       "Customer_Age      0.026818  0.044329  0.031590  0.040109  \n",
       "Order_Quantity   -0.182840  0.230999  0.335506  0.282041  \n",
       "Unit_Cost         0.989896  0.632905  0.653605  0.660120  \n",
       "Unit_Price        1.000000  0.662450  0.628131  0.667335  \n",
       "Profit            0.662450  1.000000  0.882069  0.980075  \n",
       "Cost              0.628131  0.882069  1.000000  0.958265  \n",
       "Revenue           0.667335  0.980075  0.958265  1.000000  "
      ]
     },
     "execution_count": 18,
     "metadata": {},
     "output_type": "execute_result"
    }
   ],
   "source": [
    "corr = data.corr()\n",
    "\n",
    "corr"
   ]
  },
  {
   "cell_type": "code",
   "execution_count": 19,
   "id": "d162da32",
   "metadata": {},
   "outputs": [
    {
     "data": {
      "image/png": "[encoded data removed]",
      "text/plain": [
       "<Figure size 648x648 with 1 Axes>"
      ]
     },
     "metadata": {
      "needs_background": "light"
     },
     "output_type": "display_data"
    }
   ],
   "source": [
    "fig = plt.figure(figsize=(9,9))\n",
    "plt.matshow(corr, cmap='RdBu', fignum=fig.number)\n",
    "plt.xticks(range(len(corr.columns)), corr.columns, rotation='vertical');\n",
    "plt.yticks(range(len(corr.columns)), corr.columns);"
   ]
  },
  {
   "cell_type": "code",
   "execution_count": 20,
   "id": "b3a69cf2",
   "metadata": {},
   "outputs": [
    {
     "data": {
      "image/png": "[encoded data removed]",
      "text/plain": [
       "<Figure size 720x720 with 4 Axes>"
      ]
     },
     "metadata": {
      "needs_background": "light"
     },
     "output_type": "display_data"
    }
   ],
   "source": [
    "corr_matrix = data.corr()\n",
    "sns.clustermap(corr_matrix, annot=True, fmt='.2f')\n",
    "plt.title('Correlation Between Features')\n",
    "plt.show()"
   ]
  },
  {
   "cell_type": "code",
   "execution_count": 21,
   "id": "db3b46a0",
   "metadata": {},
   "outputs": [
    {
     "data": {
      "text/plain": [
       "<AxesSubplot:xlabel='Customer_Age', ylabel='Revenue'>"
      ]
     },
     "execution_count": 21,
     "metadata": {},
     "output_type": "execute_result"
    },
    {
     "data": {
      "image/png": "[encoded data removed]",
      "text/plain": [
       "<Figure size 432x432 with 1 Axes>"
      ]
     },
     "metadata": {
      "needs_background": "light"
     },
     "output_type": "display_data"
    }
   ],
   "source": [
    "data.plot(kind='scatter', x='Customer_Age', y='Revenue', figsize=(6,6))"
   ]
  },
  {
   "cell_type": "code",
   "execution_count": 22,
   "id": "a54116fc",
   "metadata": {},
   "outputs": [
    {
     "data": {
      "text/plain": [
       "<AxesSubplot:xlabel='Revenue', ylabel='Profit'>"
      ]
     },
     "execution_count": 22,
     "metadata": {},
     "output_type": "execute_result"
    },
    {
     "data": {
      "image/png": "[encoded data removed]",
      "text/plain": [
       "<Figure size 432x432 with 1 Axes>"
      ]
     },
     "metadata": {
      "needs_background": "light"
     },
     "output_type": "display_data"
    }
   ],
   "source": [
    "data.plot(kind='scatter', x='Revenue', y='Profit', figsize=(6,6))"
   ]
  },
  {
   "cell_type": "code",
   "execution_count": 23,
   "id": "9a095b7b",
   "metadata": {},
   "outputs": [
    {
     "data": {
      "text/plain": [
       "Text(0, 0.5, 'Profit')"
      ]
     },
     "execution_count": 23,
     "metadata": {},
     "output_type": "execute_result"
    },
    {
     "data": {
      "image/png": "[encoded data removed]",
      "text/plain": [
       "<Figure size 720x432 with 1 Axes>"
      ]
     },
     "metadata": {
      "needs_background": "light"
     },
     "output_type": "display_data"
    }
   ],
   "source": [
    "ax = data[['Profit', 'Age_Group']].boxplot(by='Age_Group', figsize=(10,6))\n",
    "ax.set_ylabel('Profit')"
   ]
  },
  {
   "cell_type": "code",
   "execution_count": 24,
   "id": "19f188f5",
   "metadata": {},
   "outputs": [
    {
     "data": {
      "text/plain": [
       "Year                 AxesSubplot(0.125,0.536818;0.227941x0.343182)\n",
       "Customer_Age      AxesSubplot(0.398529,0.536818;0.227941x0.343182)\n",
       "Order_Quantity    AxesSubplot(0.672059,0.536818;0.227941x0.343182)\n",
       "Unit_Cost               AxesSubplot(0.125,0.125;0.227941x0.343182)\n",
       "Unit_Price           AxesSubplot(0.398529,0.125;0.227941x0.343182)\n",
       "Profit               AxesSubplot(0.672059,0.125;0.227941x0.343182)\n",
       "dtype: object"
      ]
     },
     "execution_count": 24,
     "metadata": {},
     "output_type": "execute_result"
    },
    {
     "data": {
      "image/png": "[encoded data removed]",
      "text/plain": [
       "<Figure size 1080x576 with 6 Axes>"
      ]
     },
     "metadata": {
      "needs_background": "light"
     },
     "output_type": "display_data"
    }
   ],
   "source": [
    "boxplot_cols = ['Year', 'Customer_Age', 'Order_Quantity', 'Unit_Cost', 'Unit_Price', 'Profit']\n",
    "\n",
    "data[boxplot_cols].plot(kind='box', subplots=True, layout=(2,3), figsize=(15,8))\n"
   ]
  },
  {
   "cell_type": "markdown",
   "id": "bc09a00a",
   "metadata": {},
   "source": [
    "## Selection & Indexing"
   ]
  },
  {
   "cell_type": "code",
   "execution_count": 25,
   "id": "8d7d9349",
   "metadata": {},
   "outputs": [
    {
     "data": {
      "text/html": [
       "<div>\n",
       "<style scoped>\n",
       "    .dataframe tbody tr th:only-of-type {\n",
       "        vertical-align: middle;\n",
       "    }\n",
       "\n",
       "    .dataframe tbody tr th {\n",
       "        vertical-align: top;\n",
       "    }\n",
       "\n",
       "    .dataframe thead th {\n",
       "        text-align: right;\n",
       "    }\n",
       "</style>\n",
       "<table border=\"1\" class=\"dataframe\">\n",
       "  <thead>\n",
       "    <tr style=\"text-align: right;\">\n",
       "      <th></th>\n",
       "      <th>Date</th>\n",
       "      <th>Day</th>\n",
       "      <th>Month</th>\n",
       "      <th>Year</th>\n",
       "      <th>Customer_Age</th>\n",
       "      <th>Age_Group</th>\n",
       "      <th>Customer_Gender</th>\n",
       "      <th>Country</th>\n",
       "      <th>State</th>\n",
       "      <th>Product_Category</th>\n",
       "      <th>Sub_Category</th>\n",
       "      <th>Product</th>\n",
       "      <th>Order_Quantity</th>\n",
       "      <th>Unit_Cost</th>\n",
       "      <th>Unit_Price</th>\n",
       "      <th>Profit</th>\n",
       "      <th>Cost</th>\n",
       "      <th>Revenue</th>\n",
       "    </tr>\n",
       "  </thead>\n",
       "  <tbody>\n",
       "    <tr>\n",
       "      <th>0</th>\n",
       "      <td>2013-11-26</td>\n",
       "      <td>26.0</td>\n",
       "      <td>November</td>\n",
       "      <td>2013.0</td>\n",
       "      <td>19.0</td>\n",
       "      <td>Youth (&lt;25)</td>\n",
       "      <td>M</td>\n",
       "      <td>Canada</td>\n",
       "      <td>British Columbia</td>\n",
       "      <td>Accessories</td>\n",
       "      <td>Bike Racks</td>\n",
       "      <td>Hitch Rack - 4-Bike</td>\n",
       "      <td>8.0</td>\n",
       "      <td>45.0</td>\n",
       "      <td>120.0</td>\n",
       "      <td>590.0</td>\n",
       "      <td>360.0</td>\n",
       "      <td>950.0</td>\n",
       "    </tr>\n",
       "    <tr>\n",
       "      <th>1</th>\n",
       "      <td>2015-11-26</td>\n",
       "      <td>26.0</td>\n",
       "      <td>November</td>\n",
       "      <td>2015.0</td>\n",
       "      <td>19.0</td>\n",
       "      <td>Youth (&lt;25)</td>\n",
       "      <td>M</td>\n",
       "      <td>Canada</td>\n",
       "      <td>British Columbia</td>\n",
       "      <td>Accessories</td>\n",
       "      <td>Bike Racks</td>\n",
       "      <td>Hitch Rack - 4-Bike</td>\n",
       "      <td>NaN</td>\n",
       "      <td>45.0</td>\n",
       "      <td>120.0</td>\n",
       "      <td>590.0</td>\n",
       "      <td>360.0</td>\n",
       "      <td>950.0</td>\n",
       "    </tr>\n",
       "    <tr>\n",
       "      <th>14</th>\n",
       "      <td>2013-08-02</td>\n",
       "      <td>2.0</td>\n",
       "      <td>August</td>\n",
       "      <td>2013.0</td>\n",
       "      <td>29.0</td>\n",
       "      <td>Young Adults (25-34)</td>\n",
       "      <td>M</td>\n",
       "      <td>Canada</td>\n",
       "      <td>British Columbia</td>\n",
       "      <td>Accessories</td>\n",
       "      <td>Bike Racks</td>\n",
       "      <td>Hitch Rack - 4-Bike</td>\n",
       "      <td>5.0</td>\n",
       "      <td>45.0</td>\n",
       "      <td>120.0</td>\n",
       "      <td>369.0</td>\n",
       "      <td>225.0</td>\n",
       "      <td>594.0</td>\n",
       "    </tr>\n",
       "    <tr>\n",
       "      <th>15</th>\n",
       "      <td>2015-08-02</td>\n",
       "      <td>2.0</td>\n",
       "      <td>August</td>\n",
       "      <td>2015.0</td>\n",
       "      <td>29.0</td>\n",
       "      <td>Young Adults (25-34)</td>\n",
       "      <td>M</td>\n",
       "      <td>Canada</td>\n",
       "      <td>British Columbia</td>\n",
       "      <td>Accessories</td>\n",
       "      <td>Bike Racks</td>\n",
       "      <td>Hitch Rack - 4-Bike</td>\n",
       "      <td>7.0</td>\n",
       "      <td>45.0</td>\n",
       "      <td>120.0</td>\n",
       "      <td>517.0</td>\n",
       "      <td>315.0</td>\n",
       "      <td>832.0</td>\n",
       "    </tr>\n",
       "    <tr>\n",
       "      <th>16</th>\n",
       "      <td>2013-09-02</td>\n",
       "      <td>2.0</td>\n",
       "      <td>September</td>\n",
       "      <td>2013.0</td>\n",
       "      <td>29.0</td>\n",
       "      <td>Young Adults (25-34)</td>\n",
       "      <td>M</td>\n",
       "      <td>Canada</td>\n",
       "      <td>British Columbia</td>\n",
       "      <td>Accessories</td>\n",
       "      <td>Bike Racks</td>\n",
       "      <td>Hitch Rack - 4-Bike</td>\n",
       "      <td>2.0</td>\n",
       "      <td>45.0</td>\n",
       "      <td>120.0</td>\n",
       "      <td>148.0</td>\n",
       "      <td>90.0</td>\n",
       "      <td>238.0</td>\n",
       "    </tr>\n",
       "    <tr>\n",
       "      <th>...</th>\n",
       "      <td>...</td>\n",
       "      <td>...</td>\n",
       "      <td>...</td>\n",
       "      <td>...</td>\n",
       "      <td>...</td>\n",
       "      <td>...</td>\n",
       "      <td>...</td>\n",
       "      <td>...</td>\n",
       "      <td>...</td>\n",
       "      <td>...</td>\n",
       "      <td>...</td>\n",
       "      <td>...</td>\n",
       "      <td>...</td>\n",
       "      <td>...</td>\n",
       "      <td>...</td>\n",
       "      <td>...</td>\n",
       "      <td>...</td>\n",
       "      <td>...</td>\n",
       "    </tr>\n",
       "    <tr>\n",
       "      <th>27109</th>\n",
       "      <td>2016-05-24</td>\n",
       "      <td>24.0</td>\n",
       "      <td>May</td>\n",
       "      <td>2016.0</td>\n",
       "      <td>40.0</td>\n",
       "      <td>Adults (35-64)</td>\n",
       "      <td>M</td>\n",
       "      <td>Canada</td>\n",
       "      <td>British Columbia</td>\n",
       "      <td>Accessories</td>\n",
       "      <td>Fenders</td>\n",
       "      <td>Fender Set - Mountain</td>\n",
       "      <td>20.0</td>\n",
       "      <td>8.0</td>\n",
       "      <td>22.0</td>\n",
       "      <td>276.0</td>\n",
       "      <td>160.0</td>\n",
       "      <td>436.0</td>\n",
       "    </tr>\n",
       "    <tr>\n",
       "      <th>27110</th>\n",
       "      <td>2014-06-27</td>\n",
       "      <td>27.0</td>\n",
       "      <td>June</td>\n",
       "      <td>2014.0</td>\n",
       "      <td>40.0</td>\n",
       "      <td>Adults (35-64)</td>\n",
       "      <td>M</td>\n",
       "      <td>Canada</td>\n",
       "      <td>British Columbia</td>\n",
       "      <td>Accessories</td>\n",
       "      <td>Fenders</td>\n",
       "      <td>Fender Set - Mountain</td>\n",
       "      <td>11.0</td>\n",
       "      <td>8.0</td>\n",
       "      <td>22.0</td>\n",
       "      <td>152.0</td>\n",
       "      <td>88.0</td>\n",
       "      <td>240.0</td>\n",
       "    </tr>\n",
       "    <tr>\n",
       "      <th>27111</th>\n",
       "      <td>2016-06-27</td>\n",
       "      <td>27.0</td>\n",
       "      <td>June</td>\n",
       "      <td>2016.0</td>\n",
       "      <td>40.0</td>\n",
       "      <td>Adults (35-64)</td>\n",
       "      <td>M</td>\n",
       "      <td>Canada</td>\n",
       "      <td>British Columbia</td>\n",
       "      <td>Accessories</td>\n",
       "      <td>Fenders</td>\n",
       "      <td>Fender Set - Mountain</td>\n",
       "      <td>11.0</td>\n",
       "      <td>8.0</td>\n",
       "      <td>22.0</td>\n",
       "      <td>152.0</td>\n",
       "      <td>88.0</td>\n",
       "      <td>240.0</td>\n",
       "    </tr>\n",
       "    <tr>\n",
       "      <th>27112</th>\n",
       "      <td>2014-07-20</td>\n",
       "      <td>20.0</td>\n",
       "      <td>July</td>\n",
       "      <td>2014.0</td>\n",
       "      <td>40.0</td>\n",
       "      <td>Adults (35-64)</td>\n",
       "      <td>M</td>\n",
       "      <td>Canada</td>\n",
       "      <td>British Columbia</td>\n",
       "      <td>Accessories</td>\n",
       "      <td>Fenders</td>\n",
       "      <td>Fender Set - Mountain</td>\n",
       "      <td>11.0</td>\n",
       "      <td>8.0</td>\n",
       "      <td>22.0</td>\n",
       "      <td>152.0</td>\n",
       "      <td>88.0</td>\n",
       "      <td>240.0</td>\n",
       "    </tr>\n",
       "    <tr>\n",
       "      <th>27113</th>\n",
       "      <td>2016-07-20</td>\n",
       "      <td>20.0</td>\n",
       "      <td>July</td>\n",
       "      <td>2016.0</td>\n",
       "      <td>40.0</td>\n",
       "      <td>Adults (35-64)</td>\n",
       "      <td>M</td>\n",
       "      <td>Canada</td>\n",
       "      <td>British Columbia</td>\n",
       "      <td>Accessories</td>\n",
       "      <td>Fenders</td>\n",
       "      <td>Fender Set - Mountain</td>\n",
       "      <td>8.0</td>\n",
       "      <td>8.0</td>\n",
       "      <td>22.0</td>\n",
       "      <td>110.0</td>\n",
       "      <td>64.0</td>\n",
       "      <td>174.0</td>\n",
       "    </tr>\n",
       "  </tbody>\n",
       "</table>\n",
       "<p>3782 rows × 18 columns</p>\n",
       "</div>"
      ],
      "text/plain": [
       "             Date   Day      Month    Year  Customer_Age  \\\n",
       "0      2013-11-26  26.0   November  2013.0          19.0   \n",
       "1      2015-11-26  26.0   November  2015.0          19.0   \n",
       "14     2013-08-02   2.0     August  2013.0          29.0   \n",
       "15     2015-08-02   2.0     August  2015.0          29.0   \n",
       "16     2013-09-02   2.0  September  2013.0          29.0   \n",
       "...           ...   ...        ...     ...           ...   \n",
       "27109  2016-05-24  24.0        May  2016.0          40.0   \n",
       "27110  2014-06-27  27.0       June  2014.0          40.0   \n",
       "27111  2016-06-27  27.0       June  2016.0          40.0   \n",
       "27112  2014-07-20  20.0       July  2014.0          40.0   \n",
       "27113  2016-07-20  20.0       July  2016.0          40.0   \n",
       "\n",
       "                  Age_Group Customer_Gender Country             State  \\\n",
       "0               Youth (<25)               M  Canada  British Columbia   \n",
       "1               Youth (<25)               M  Canada  British Columbia   \n",
       "14     Young Adults (25-34)               M  Canada  British Columbia   \n",
       "15     Young Adults (25-34)               M  Canada  British Columbia   \n",
       "16     Young Adults (25-34)               M  Canada  British Columbia   \n",
       "...                     ...             ...     ...               ...   \n",
       "27109        Adults (35-64)               M  Canada  British Columbia   \n",
       "27110        Adults (35-64)               M  Canada  British Columbia   \n",
       "27111        Adults (35-64)               M  Canada  British Columbia   \n",
       "27112        Adults (35-64)               M  Canada  British Columbia   \n",
       "27113        Adults (35-64)               M  Canada  British Columbia   \n",
       "\n",
       "      Product_Category Sub_Category                Product  Order_Quantity  \\\n",
       "0          Accessories   Bike Racks    Hitch Rack - 4-Bike             8.0   \n",
       "1          Accessories   Bike Racks    Hitch Rack - 4-Bike             NaN   \n",
       "14         Accessories   Bike Racks    Hitch Rack - 4-Bike             5.0   \n",
       "15         Accessories   Bike Racks    Hitch Rack - 4-Bike             7.0   \n",
       "16         Accessories   Bike Racks    Hitch Rack - 4-Bike             2.0   \n",
       "...                ...          ...                    ...             ...   \n",
       "27109      Accessories      Fenders  Fender Set - Mountain            20.0   \n",
       "27110      Accessories      Fenders  Fender Set - Mountain            11.0   \n",
       "27111      Accessories      Fenders  Fender Set - Mountain            11.0   \n",
       "27112      Accessories      Fenders  Fender Set - Mountain            11.0   \n",
       "27113      Accessories      Fenders  Fender Set - Mountain             8.0   \n",
       "\n",
       "       Unit_Cost  Unit_Price  Profit   Cost  Revenue  \n",
       "0           45.0       120.0   590.0  360.0    950.0  \n",
       "1           45.0       120.0   590.0  360.0    950.0  \n",
       "14          45.0       120.0   369.0  225.0    594.0  \n",
       "15          45.0       120.0   517.0  315.0    832.0  \n",
       "16          45.0       120.0   148.0   90.0    238.0  \n",
       "...          ...         ...     ...    ...      ...  \n",
       "27109        8.0        22.0   276.0  160.0    436.0  \n",
       "27110        8.0        22.0   152.0   88.0    240.0  \n",
       "27111        8.0        22.0   152.0   88.0    240.0  \n",
       "27112        8.0        22.0   152.0   88.0    240.0  \n",
       "27113        8.0        22.0   110.0   64.0    174.0  \n",
       "\n",
       "[3782 rows x 18 columns]"
      ]
     },
     "execution_count": 25,
     "metadata": {},
     "output_type": "execute_result"
    }
   ],
   "source": [
    "data.loc[data['State'] == 'British Columbia'] \n",
    "#Get all the sales made in the state of British Columbia"
   ]
  },
  {
   "cell_type": "code",
   "execution_count": 26,
   "id": "2f6d7262",
   "metadata": {},
   "outputs": [
    {
     "data": {
      "text/plain": [
       "144.8045112781955"
      ]
     },
     "execution_count": 26,
     "metadata": {},
     "output_type": "execute_result"
    }
   ],
   "source": [
    "data.loc[data['Age_Group'] == 'Youth (<25)', 'Revenue'].mean() \n",
    "#Get the mean revenue of the Youth (<25) sales group"
   ]
  },
  {
   "cell_type": "code",
   "execution_count": 27,
   "id": "465c642f",
   "metadata": {},
   "outputs": [
    {
     "data": {
      "text/plain": [
       "194.48839662447259"
      ]
     },
     "execution_count": 27,
     "metadata": {},
     "output_type": "execute_result"
    }
   ],
   "source": [
    "data.loc[(data['Age_Group'] == 'Adults (35-64)') & (data['Country'] == 'Canada'), 'Revenue'].mean() \n",
    "#Get the mean revenue of the sales group Adults (35-64) in Canada"
   ]
  },
  {
   "cell_type": "code",
   "execution_count": null,
   "id": "3a8e154c",
   "metadata": {},
   "outputs": [],
   "source": []
  }
 ],
 "metadata": {
  "kernelspec": {
   "display_name": "Python 3 (ipykernel)",
   "language": "python",
   "name": "python3"
  },
  "language_info": {
   "codemirror_mode": {
    "name": "ipython",
    "version": 3
   },
   "file_extension": ".py",
   "mimetype": "text/x-python",
   "name": "python",
   "nbconvert_exporter": "python",
   "pygments_lexer": "ipython3",
   "version": "3.9.7"
  }
 },
 "nbformat": 4,
 "nbformat_minor": 5
}
